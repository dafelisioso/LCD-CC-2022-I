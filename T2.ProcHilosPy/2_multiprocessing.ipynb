{
  "nbformat": 4,
  "nbformat_minor": 0,
  "metadata": {
    "colab": {
      "name": "2 multiprocessing.ipynb",
      "provenance": []
    },
    "kernelspec": {
      "name": "python3",
      "display_name": "Python 3"
    },
    "language_info": {
      "name": "python"
    }
  },
  "cells": [
    {
      "cell_type": "code",
      "metadata": {
        "colab": {
          "base_uri": "https://localhost:8080/"
        },
        "id": "qN-rwZeWe9mj",
        "outputId": "7be65fcb-5ad3-4f86-e899-3181a30cd7f7"
      },
      "source": [
        "\n",
        "import multiprocessing\n",
        "multiprocessing.cpu_count()"
      ],
      "execution_count": 3,
      "outputs": [
        {
          "output_type": "execute_result",
          "data": {
            "text/plain": [
              "2"
            ]
          },
          "metadata": {},
          "execution_count": 3
        }
      ]
    },
    {
      "cell_type": "code",
      "metadata": {
        "colab": {
          "base_uri": "https://localhost:8080/"
        },
        "id": "ybCyd9fAfCRf",
        "outputId": "8782a49e-9343-42a5-8fa9-c01f71eb015d"
      },
      "source": [
        "print(multiprocessing.current_process().pid)"
      ],
      "execution_count": 4,
      "outputs": [
        {
          "output_type": "stream",
          "name": "stdout",
          "text": [
            "65\n"
          ]
        }
      ]
    },
    {
      "cell_type": "code",
      "metadata": {
        "colab": {
          "base_uri": "https://localhost:8080/"
        },
        "id": "UxJwvI2LfEcX",
        "outputId": "657962b3-8a00-4b83-906e-e9a8168511a9"
      },
      "source": [
        "import time\n",
        "import os\n",
        "\n",
        "def tarea_hijo():\n",
        "    print('Proceso hijo con PID {}'.format(multiprocessing.current_process().pid))\n",
        "    time.sleep(3)\n",
        "    print('Fin del proceso hijo')\n",
        "\n",
        "def main():\n",
        "    print('Proceso padre con PID {}'.format(multiprocessing.current_process().pid))\n",
        "    mi_proceso = multiprocessing.Process(target=tarea_hijo)\n",
        "    mi_proceso.start() # Iniciar tarea\n",
        "    mi_proceso.join() # Esperar a que termine el proceso hijo    \n",
        "    print('Fin del proceso padre')\n",
        "    \n",
        "main()"
      ],
      "execution_count": 5,
      "outputs": [
        {
          "output_type": "stream",
          "name": "stdout",
          "text": [
            "Proceso padre con PID 65\n",
            "Proceso hijo con PID 115\n",
            "Fin del proceso hijo\n",
            "Fin del proceso padre\n"
          ]
        }
      ]
    },
    {
      "cell_type": "code",
      "metadata": {
        "colab": {
          "base_uri": "https://localhost:8080/"
        },
        "id": "SwCc-ySHfEg-",
        "outputId": "c4c04b53-3bbf-45e8-901c-37a4e7da13fb"
      },
      "source": [
        "\n",
        "def mi_proceso():\n",
        "    print('Proceso con nombre: {}'.format(multiprocessing.current_process().name))\n",
        "\n",
        "# Usando main para la tarea del padre\n",
        "def main():\n",
        "    p_hijo = multiprocessing.Process(target=mi_proceso, name=\"Proceso_LCD_CC\")\n",
        "    p_hijo.start() # Lo inicio\n",
        "    p_hijo.join() # Espero que termine\n",
        "\n",
        "main()"
      ],
      "execution_count": 6,
      "outputs": [
        {
          "output_type": "stream",
          "name": "stdout",
          "text": [
            "Proceso con nombre: Proceso_LCD_CC\n"
          ]
        }
      ]
    },
    {
      "cell_type": "code",
      "metadata": {
        "id": "3tPSGIpYfEj_"
      },
      "source": [
        "\n",
        "import os\n",
        "import multiprocessing as mp"
      ],
      "execution_count": 7,
      "outputs": []
    },
    {
      "cell_type": "code",
      "metadata": {
        "colab": {
          "base_uri": "https://localhost:8080/"
        },
        "id": "H8iD93gJfEmo",
        "outputId": "8af322ed-dc79-4610-9cfe-d47ea3623a53"
      },
      "source": [
        "def show_name():\n",
        "    print(f'Proceso con nombre {multiprocessing.current_process().name}')\n",
        "    print(f'ID del Proceso: {os.getpid()}')\n",
        "    print(f'ID del Proceso padre: {os.getppid()}')\n",
        "    time.sleep(3)\n",
        "    print('Fin del proceso hijo')\n",
        "\n",
        "def main():\n",
        "    print('Proceso padre con PID {}'.format(multiprocessing.current_process().pid))\n",
        "    p1 = mp.Process(target=show_name, name='Jim')\n",
        "    p2 = mp.Process(target=show_name, name='Carlos')\n",
        "    p3 = mp.Process(target=show_name, name='Pepe')\n",
        "    \n",
        "    p1.start(); p2.start(); p3.start();\n",
        "    p1.join(); p2.join(); p3.join();\n",
        "    print('Fin del proceso padre')\n",
        "    \n",
        "main()"
      ],
      "execution_count": 8,
      "outputs": [
        {
          "output_type": "stream",
          "name": "stdout",
          "text": [
            "Proceso padre con PID 65\n",
            "Proceso con nombre Jim\n",
            "ID del Proceso: 123\n",
            "ID del Proceso padre: 65\n",
            "Proceso con nombre Carlos\n",
            "ID del Proceso: 124\n",
            "ID del Proceso padre: 65\n",
            "Proceso con nombre Pepe\n",
            "ID del Proceso: 131\n",
            "ID del Proceso padre: 65\n",
            "Fin del proceso hijo\n",
            "Fin del proceso hijo\n",
            "Fin del proceso hijo\n",
            "Fin del proceso padre\n"
          ]
        }
      ]
    },
    {
      "cell_type": "code",
      "metadata": {
        "id": "jD_12Y5zfEpK"
      },
      "source": [
        "# Ejemplo de escritura de nombres de proceso\n",
        "\n",
        "from multiprocessing import Process, current_process\n",
        "import time\n",
        "\n",
        "def f1():\n",
        "    pname = current\n",
        "    \n"
      ],
      "execution_count": 11,
      "outputs": []
    },
    {
      "cell_type": "code",
      "metadata": {
        "colab": {
          "base_uri": "https://localhost:8080/"
        },
        "id": "68mDf4AnfEr5",
        "outputId": "98f96ed0-09bc-4a77-eba8-bd057116d388"
      },
      "source": [
        "\n",
        "def tarea_proceso():\n",
        "    p_actual = multiprocessing.current_process()\n",
        "    print('Proceso hijo pd: {}'.format(p_actual.pid))\n",
        "    time.sleep(5)\n",
        "    print('Continua la ejecición')\n",
        "\n",
        "mi_proceso = multiprocessing.Process(target=tarea_proceso)\n",
        "mi_proceso.start()\n",
        "time.sleep(2)\n",
        "print('Proceso padre ha terminado, termina el proceso main')\n",
        "print('Proceso hijo termiando...')\n",
        "mi_proceso.terminate()\n",
        "print('Proceso hijo finalizo con exito')"
      ],
      "execution_count": 12,
      "outputs": [
        {
          "output_type": "stream",
          "name": "stdout",
          "text": [
            "Proceso hijo pd: 156\n",
            "Proceso padre ha terminado, termina el proceso main\n",
            "Proceso hijo termiando...\n",
            "Proceso hijo finalizo con exito\n"
          ]
        }
      ]
    },
    {
      "cell_type": "code",
      "metadata": {
        "colab": {
          "base_uri": "https://localhost:8080/"
        },
        "id": "5Nh8CvBKfEu0",
        "outputId": "16a413d3-de03-4490-dbee-51579fe2dc82"
      },
      "source": [
        "from multiprocessing import Process, Queue\n",
        "\n",
        "def worker(num, q):\n",
        "    print('Se pone en la cola ', num * num)\n",
        "    q.put(num * num)\n",
        "    \n",
        "if __name__ == '__main__':\n",
        "    my_queue = Queue()\n",
        "    p = Process(target=worker, args=(5, my_queue))\n",
        "    p.start()\n",
        "    p.join()\n",
        "    \n",
        "    print('Se lee de la cola: ', my_queue.get())"
      ],
      "execution_count": 13,
      "outputs": [
        {
          "output_type": "stream",
          "name": "stdout",
          "text": [
            "Se pone en la cola  25\n",
            "Se lee de la cola:  25\n"
          ]
        }
      ]
    },
    {
      "cell_type": "code",
      "metadata": {
        "colab": {
          "base_uri": "https://localhost:8080/"
        },
        "id": "iLCPk3JHfPLK",
        "outputId": "e1fbef1c-9421-4aa2-d3cf-da7aa926dbee"
      },
      "source": [
        "from multiprocessing import Process, Queue, current_process \n",
        "\n",
        "def suma(a, b, q):\n",
        "    q.put(a + b)\n",
        "    \n",
        "def restar(a, b, q):\n",
        "    q.put(a - b)\n",
        "    \n",
        "def mult(a, b, q):\n",
        "    q.put(a * b)\n",
        "    \n",
        "if __name__ == '__main__':\n",
        "    my_queue = Queue()\n",
        "    a = 10\n",
        "    b = 5\n",
        "    p1 = Process(name='jim', target=suma, args=(a, b, my_queue))\n",
        "    p2 = Process(name='carlos', target=restar, args=(a, b, my_queue))\n",
        "    p3 = Process(name='juna', target=mult, args=(a, b, my_queue))\n",
        "    \n",
        "    p1.start(); p2.start(); p3.start();\n",
        "    p1.join(); p2.join(); p3.join();\n",
        "    \n",
        "    print(f'Suma de {a} + {b} = {my_queue.get()}')\n",
        "    print(f'Resta de {a} - {b} = {my_queue.get()}')\n",
        "    print(f'Multi de {a} * {b} = {my_queue.get()}')\n",
        "    \n",
        "    print('Fin del proceso padre')"
      ],
      "execution_count": 14,
      "outputs": [
        {
          "output_type": "stream",
          "name": "stdout",
          "text": [
            "Suma de 10 + 5 = 15\n",
            "Resta de 10 - 5 = 5\n",
            "Multi de 10 * 5 = 50\n",
            "Fin del proceso padre\n"
          ]
        }
      ]
    },
    {
      "cell_type": "code",
      "metadata": {
        "id": "oH_dsnUYfPOY"
      },
      "source": [
        ""
      ],
      "execution_count": null,
      "outputs": []
    },
    {
      "cell_type": "code",
      "metadata": {
        "id": "zE54YZbSfPQ3"
      },
      "source": [
        ""
      ],
      "execution_count": null,
      "outputs": []
    },
    {
      "cell_type": "code",
      "metadata": {
        "id": "nuVmw9-GfPUG"
      },
      "source": [
        ""
      ],
      "execution_count": null,
      "outputs": []
    },
    {
      "cell_type": "code",
      "metadata": {
        "id": "gg_iRZbMfPWd"
      },
      "source": [
        ""
      ],
      "execution_count": null,
      "outputs": []
    }
  ]
}