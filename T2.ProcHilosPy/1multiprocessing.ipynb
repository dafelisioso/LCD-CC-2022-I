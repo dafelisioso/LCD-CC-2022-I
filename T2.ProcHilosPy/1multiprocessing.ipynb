{
  "nbformat": 4,
  "nbformat_minor": 0,
  "metadata": {
    "colab": {
      "name": "1multiprocessing.ipynb",
      "provenance": []
    },
    "kernelspec": {
      "name": "python3",
      "display_name": "Python 3"
    },
    "language_info": {
      "name": "python"
    }
  },
  "cells": [
    {
      "cell_type": "code",
      "metadata": {
        "colab": {
          "base_uri": "https://localhost:8080/"
        },
        "id": "9k27DB04fl9g",
        "outputId": "ac5a8880-439c-47af-f194-0b974ed34f8c"
      },
      "source": [
        "\n",
        "import multiprocessing as mp \n",
        "\n",
        "def tarea(name):\n",
        "    print(\"Hola\", name)\n",
        "\n",
        "if __name__ == '__main__':\n",
        "    p = mp.Process(target=tarea, args=('Dani boy',))\n",
        "    p.start() # Invocamos el proceso\n",
        "    p.join() # Unimos al padre"
      ],
      "execution_count": 1,
      "outputs": [
        {
          "output_type": "stream",
          "name": "stdout",
          "text": [
            "Hola Dani boy\n"
          ]
        }
      ]
    },
    {
      "cell_type": "code",
      "metadata": {
        "colab": {
          "base_uri": "https://localhost:8080/"
        },
        "id": "s7wELNJgfpQv",
        "outputId": "2fe5b932-5144-4c5d-c8f1-4585736b24c2"
      },
      "source": [
        "import multiprocessing as mp \n",
        "import time\n",
        "\n",
        "def calc_cuad(numeros):\n",
        "    print(\"Calcula el cuadrado de los números\")\n",
        "    for n in numeros:\n",
        "        print(\"cuadrado:\", n * n)\n",
        "\n",
        "nums = range(10)\n",
        "t = time.time()\n",
        "p1 = mp.Process(target=calc_cuad, args=(nums,))\n",
        "# Empezar el proceso\n",
        "p1.start()\n",
        "# Va regresar a la ejecucion al padre\n",
        "p1.join() \n",
        "\n",
        "print(\"Tiempo de ejecución: \", time.time() -t)\n",
        "print(\"Finaliza la ejecución\")"
      ],
      "execution_count": 2,
      "outputs": [
        {
          "output_type": "stream",
          "name": "stdout",
          "text": [
            "Calcula el cuadrado de los números\n",
            "cuadrado: 0\n",
            "cuadrado: 1\n",
            "cuadrado: 4\n",
            "cuadrado: 9\n",
            "cuadrado: 16\n",
            "cuadrado: 25\n",
            "cuadrado: 36\n",
            "cuadrado: 49\n",
            "cuadrado: 64\n",
            "cuadrado: 81\n",
            "Tiempo de ejecución:  0.07982635498046875\n",
            "Finaliza la ejecución\n"
          ]
        }
      ]
    },
    {
      "cell_type": "code",
      "metadata": {
        "colab": {
          "base_uri": "https://localhost:8080/"
        },
        "id": "L7YzbLqYfpTe",
        "outputId": "c676dae8-e600-4d69-ef63-30bbec43136d"
      },
      "source": [
        "def calc_cubos(nums):\n",
        "    print('Calcula el cubo de los números')\n",
        "    for num in nums:\n",
        "        print('cubo:', num ** 3)\n",
        "\n",
        "nums = range(5)\n",
        "p1 = mp.Process(target=calc_cuad, args=(nums,))\n",
        "p2 = mp.Process(target=calc_cubos, args=(nums,))\n",
        "p1.start()\n",
        "p1.join()\n",
        "p2.start()\n",
        "# join hace que le proceso principal espere hasta que p1 haya terminado y se una con el main process\n",
        "p2.join()\n",
        "print('Termina la ejecución númerica')"
      ],
      "execution_count": 3,
      "outputs": [
        {
          "output_type": "stream",
          "name": "stdout",
          "text": [
            "Calcula el cuadrado de los números\n",
            "cuadrado: 0\n",
            "cuadrado: 1\n",
            "cuadrado: 4\n",
            "cuadrado: 9\n",
            "cuadrado: 16\n",
            "Calcula el cubo de los números\n",
            "cubo: 0\n",
            "cubo: 1\n",
            "cubo: 8\n",
            "cubo: 27\n",
            "cubo: 64\n",
            "Termina la ejecución númerica\n"
          ]
        }
      ]
    },
    {
      "cell_type": "code",
      "metadata": {
        "colab": {
          "base_uri": "https://localhost:8080/"
        },
        "id": "C6d3l4CLfpYX",
        "outputId": "b42391d3-90f5-416a-b370-9dda7297b2da"
      },
      "source": [
        "\n",
        "import multiprocessing as mp\n",
        "import time\n",
        "\n",
        "def calc_cuad(numeros):\n",
        "    print(\"Calcula el cuadrado de los números\")\n",
        "    for n in numeros:\n",
        "        time.sleep(0.2)\n",
        "        print(\"cuadrado:\", n * n)\n",
        "        \n",
        "def calc_cubos(nums):\n",
        "    print('Calcula el cubo de los números')\n",
        "    for num in nums:\n",
        "        time.sleep(0.2)\n",
        "        print('cubo:', num ** 3)\n",
        "\n",
        "nums = range(5)\n",
        "t = time.time()\n",
        "calc_cuad(nums)\n",
        "calc_cubos(nums)\n",
        "\n",
        "print(\"Tiempo de ejecución: \", time.time() -t)\n",
        "print(\"Finaliza la ejecución\")"
      ],
      "execution_count": 4,
      "outputs": [
        {
          "output_type": "stream",
          "name": "stdout",
          "text": [
            "Calcula el cuadrado de los números\n",
            "cuadrado: 0\n",
            "cuadrado: 1\n",
            "cuadrado: 4\n",
            "cuadrado: 9\n",
            "cuadrado: 16\n",
            "Calcula el cubo de los números\n",
            "cubo: 0\n",
            "cubo: 1\n",
            "cubo: 8\n",
            "cubo: 27\n",
            "cubo: 64\n",
            "Tiempo de ejecución:  2.008969306945801\n",
            "Finaliza la ejecución\n"
          ]
        }
      ]
    },
    {
      "cell_type": "code",
      "metadata": {
        "colab": {
          "base_uri": "https://localhost:8080/"
        },
        "id": "xXSkW30bfpaw",
        "outputId": "a35da844-155e-47ef-a468-d080fc30fd29"
      },
      "source": [
        "import multiprocessing as mp\n",
        "import time\n",
        "\n",
        "def calc_cuad(numeros):\n",
        "    print(\"Calcula el cuadrado de los números\")\n",
        "    for n in numeros:\n",
        "        time.sleep(0.2)\n",
        "        print(\"cuadrado:\", n * n)\n",
        "        \n",
        "def calc_cubos(nums):\n",
        "    print('Calcula el cubo de los números')\n",
        "    for num in nums:\n",
        "        time.sleep(0.2)\n",
        "        print('cubo:', num ** 3)\n",
        "\n",
        "t = time.time()\n",
        "nums = range(5)\n",
        "p1 = mp.Process(target=calc_cuad, args=(nums,))\n",
        "p2 = mp.Process(target=calc_cubos, args=(nums,))\n",
        "\n",
        "p1.start()\n",
        "p2.start()\n",
        "\n",
        "p1.join()\n",
        "p2.join()\n",
        "\n",
        "print(\"Tiempo de ejecución: \", time.time() -t)\n",
        "print(\"Finaliza la ejecución\")"
      ],
      "execution_count": 5,
      "outputs": [
        {
          "output_type": "stream",
          "name": "stdout",
          "text": [
            "Calcula el cuadrado de los números\n",
            "Calcula el cubo de los números\n",
            "cuadrado: 0\n",
            "cubo: 0\n",
            "cubo: 1\n",
            "cuadrado: 1\n",
            "cubo: 8\n",
            "cuadrado: 4\n",
            "cubo: 27\n",
            "cuadrado: 9\n",
            "cubo: 64\n",
            "cuadrado: 16\n",
            "Tiempo de ejecución:  1.0544257164001465\n",
            "Finaliza la ejecución\n"
          ]
        }
      ]
    },
    {
      "cell_type": "code",
      "metadata": {
        "colab": {
          "base_uri": "https://localhost:8080/"
        },
        "id": "eqOcdztWfpcu",
        "outputId": "09588749-3b23-47f7-d911-7d1e9c92333b"
      },
      "source": [
        "\n",
        "import os\n",
        "print('module name:', __name__)\n",
        "print('parent process:', os.getppid())\n",
        "print('process id:', os.getpid())"
      ],
      "execution_count": 6,
      "outputs": [
        {
          "output_type": "stream",
          "name": "stdout",
          "text": [
            "module name: __main__\n",
            "parent process: 51\n",
            "process id: 62\n"
          ]
        }
      ]
    },
    {
      "cell_type": "code",
      "metadata": {
        "colab": {
          "base_uri": "https://localhost:8080/"
        },
        "id": "rUMyF6xGfpe9",
        "outputId": "7aff2d00-3a56-42c5-c551-7811b7ff2d78"
      },
      "source": [
        "\n",
        "from multiprocessing import Process\n",
        "import os\n",
        "\n",
        "def info(titulo):\n",
        "  print(titulo)\n",
        "  print('module name', __name__)\n",
        "  print('parent process', os.getppid()) # Proceso que lo ejecuta\n",
        "  print('process id:', os.getpid()) # El propio proceso  \n",
        "\n",
        "def f(nombre):\n",
        "  info('function f')\n",
        "  print('hello', nombre)\n",
        "  print('-----')\n",
        "\n",
        "info('Primera linea')\n",
        "p = Process(target=f, args=('oscar',))\n",
        "p.start()\n",
        "p.join()"
      ],
      "execution_count": 7,
      "outputs": [
        {
          "output_type": "stream",
          "name": "stdout",
          "text": [
            "Primera linea\n",
            "module name __main__\n",
            "parent process 51\n",
            "process id: 62\n",
            "function f\n",
            "module name __main__\n",
            "parent process 62\n",
            "process id: 180\n",
            "hello oscar\n",
            "-----\n"
          ]
        }
      ]
    },
    {
      "cell_type": "code",
      "metadata": {
        "colab": {
          "base_uri": "https://localhost:8080/"
        },
        "id": "IZ4Kjk_4fpla",
        "outputId": "bad1f2ea-f77c-4fbb-8af7-3d8a9fc2cdfd"
      },
      "source": [
        "\n",
        "import multiprocessing as mp\n",
        "import time\n",
        "\n",
        "\n",
        "nums_res = []\n",
        "\n",
        "def calc_cuad(numeros):\n",
        "    # Vista por proceso hijo\n",
        "    # Ver variables fuera de la funcion, debido que se copia el codigo \n",
        "    # del padre\n",
        "    global nums_res\n",
        "    for n in numeros:\n",
        "        print('cuadrado:', n * n )\n",
        "        nums_res.append(n * n)\n",
        "        print(\"Resultado del proceso:\", nums_res)\n",
        "\n",
        "\n",
        "nums = range(10)\n",
        "\n",
        "t = time.time()\n",
        "p1 = mp.Process(target=calc_cuad, args=(nums,))\n",
        "\n",
        "p1.start()\n",
        "p1.join()\n",
        "print(\"Fuera del proceso:\", nums_res)\n",
        "\n",
        "print(\"Tiempo de ejecución: \", time.time()-t)\n",
        "print(\"Resultado del proceso:\", nums_res)\n",
        "print(\"Finaliza ejecución\")"
      ],
      "execution_count": 8,
      "outputs": [
        {
          "output_type": "stream",
          "name": "stdout",
          "text": [
            "cuadrado: 0\n",
            "Resultado del proceso: [0]\n",
            "cuadrado: 1\n",
            "Resultado del proceso: [0, 1]\n",
            "cuadrado: 4\n",
            "Resultado del proceso: [0, 1, 4]\n",
            "cuadrado: 9\n",
            "Resultado del proceso: [0, 1, 4, 9]\n",
            "cuadrado: 16\n",
            "Resultado del proceso: [0, 1, 4, 9, 16]\n",
            "cuadrado: 25\n",
            "Resultado del proceso: [0, 1, 4, 9, 16, 25]\n",
            "cuadrado: 36\n",
            "Resultado del proceso: [0, 1, 4, 9, 16, 25, 36]\n",
            "cuadrado: 49\n",
            "Resultado del proceso: [0, 1, 4, 9, 16, 25, 36, 49]\n",
            "cuadrado: 64\n",
            "Resultado del proceso: [0, 1, 4, 9, 16, 25, 36, 49, 64]\n",
            "cuadrado: 81\n",
            "Resultado del proceso: [0, 1, 4, 9, 16, 25, 36, 49, 64, 81]\n",
            "Fuera del proceso: []\n",
            "Tiempo de ejecución:  0.09731388092041016\n",
            "Resultado del proceso: []\n",
            "Finaliza ejecución\n"
          ]
        }
      ]
    },
    {
      "cell_type": "code",
      "metadata": {
        "id": "roLJZsYQf66H"
      },
      "source": [
        ""
      ],
      "execution_count": 8,
      "outputs": []
    },
    {
      "cell_type": "code",
      "metadata": {
        "id": "jrfha9mXf69L"
      },
      "source": [
        ""
      ],
      "execution_count": 8,
      "outputs": []
    },
    {
      "cell_type": "code",
      "metadata": {
        "id": "94R7Se1-f6_u"
      },
      "source": [
        ""
      ],
      "execution_count": 8,
      "outputs": []
    },
    {
      "cell_type": "code",
      "metadata": {
        "id": "7hatJOogf7CQ"
      },
      "source": [
        ""
      ],
      "execution_count": 8,
      "outputs": []
    },
    {
      "cell_type": "code",
      "metadata": {
        "id": "RHYf75_nf7FP"
      },
      "source": [
        ""
      ],
      "execution_count": 8,
      "outputs": []
    }
  ]
}